{
 "cells": [
  {
   "cell_type": "code",
   "execution_count": 1,
   "metadata": {
    "colab": {
     "base_uri": "https://localhost:8080/"
    },
    "executionInfo": {
     "elapsed": 3142,
     "status": "ok",
     "timestamp": 1663751414062,
     "user": {
      "displayName": "Joey Brown",
      "userId": "01530074625336929637"
     },
     "user_tz": -480
    },
    "id": "xEawtCCVSOA3",
    "outputId": "42c527a3-f1ff-4fd6-957b-e88da1cfa06a"
   },
   "outputs": [],
   "source": [
    "# import libraries to facilitate calculations and data prep\n",
    "import os\n",
    "import math\n",
    "import pandas as pd\n",
    "import numpy as np"
   ]
  },
  {
   "cell_type": "code",
   "execution_count": 2,
   "metadata": {
    "executionInfo": {
     "elapsed": 527,
     "status": "ok",
     "timestamp": 1663751414587,
     "user": {
      "displayName": "Joey Brown",
      "userId": "01530074625336929637"
     },
     "user_tz": -480
    },
    "id": "ky1GfrIiWRxQ"
   },
   "outputs": [],
   "source": [
    "# load the same pre-processed data\n",
    "\n",
    "trainX_path = \"./trainX.csv\"\n",
    "trainY_path = \"./trainY.csv\" \n",
    "testX_path = \"./testX.csv\" \n",
    "testY_path = \"./testY.csv\" \n",
    "\n",
    "df_trainX = pd.read_csv(trainX_path)\n",
    "df_trainY = pd.read_csv(trainY_path)\n",
    "df_testX = pd.read_csv(testX_path)\n",
    "df_testY = pd.read_csv(testY_path)"
   ]
  },
  {
   "cell_type": "code",
   "execution_count": 3,
   "metadata": {
    "colab": {
     "base_uri": "https://localhost:8080/"
    },
    "executionInfo": {
     "elapsed": 1,
     "status": "ok",
     "timestamp": 1663751414587,
     "user": {
      "displayName": "Joey Brown",
      "userId": "01530074625336929637"
     },
     "user_tz": -480
    },
    "id": "ae-FY7spkEIv",
    "outputId": "8df8d735-d4eb-406f-b969-10efc1df9020"
   },
   "outputs": [],
   "source": [
    "trainX = df_trainX.values\n",
    "trainY = df_trainY.values\n",
    "testX = df_testX.values\n",
    "testY = df_testY.values"
   ]
  },
  {
   "cell_type": "markdown",
   "metadata": {
    "id": "d-ubPHyp8QYM"
   },
   "source": [
    "# DNN model construction function"
   ]
  },
  {
   "cell_type": "code",
   "execution_count": 4,
   "metadata": {
    "executionInfo": {
     "elapsed": 5277,
     "status": "ok",
     "timestamp": 1663751419863,
     "user": {
      "displayName": "Joey Brown",
      "userId": "01530074625336929637"
     },
     "user_tz": -480
    },
    "id": "5iVF8n-AZCG6"
   },
   "outputs": [],
   "source": [
    "from keras import models\n",
    "from keras import layers\n",
    "from keras.layers import Activation\n",
    "from keras.layers import BatchNormalization\n",
    "import tensorflow as tf\n",
    "import logging\n",
    "tf.get_logger().setLevel(logging.ERROR)\n",
    "import warnings\n",
    "warnings.filterwarnings(\"ignore\")\n",
    "from keras.callbacks import ModelCheckpoint\n",
    "from sklearn.model_selection import StratifiedKFold\n",
    "import numpy as np\n",
    "import time\n",
    "\n",
    "from keras import backend as K\n",
    "\n",
    "def makeModel(inputdim, funnel_prop=1.0, acti_func='swish', Dropout_prop = 0.1, addBN=False, labelSmoothingStrength=0.0):\n",
    "  initializer = tf.keras.initializers.RandomNormal(mean=0., stddev=1.)\n",
    "  M_model = models.Sequential()\n",
    "\n",
    "  #Input Layer#\n",
    "  num_neurons = int(inputdim*funnel_prop)\n",
    "  M_model.add(layers.Dense(num_neurons, input_dim=inputdim, activation=acti_func, kernel_initializer=initializer))\n",
    "  if (addBN):\n",
    "    M_model.add(BatchNormalization())\n",
    "  #don't add dropout right after input layer#\n",
    "\n",
    "  #Hidden layer 1#\n",
    "  num_neurons = int(num_neurons*funnel_prop)\n",
    "  M_model.add(layers.Dense(num_neurons,activation=acti_func, kernel_initializer=initializer))\n",
    "  if (Dropout_prop>0.0000001):\n",
    "    M_model.add(layers.Dropout(Dropout_prop))\n",
    "  if (addBN):\n",
    "    M_model.add(BatchNormalization())\n",
    "\n",
    "  #Hidden layer 2#\n",
    "  num_neurons = int(num_neurons*funnel_prop)\n",
    "  M_model.add(layers.Dense(num_neurons, activation=acti_func, kernel_initializer=initializer))\n",
    "  if (Dropout_prop>0.0000001):\n",
    "    M_model.add(layers.Dropout(Dropout_prop))\n",
    "  if (addBN):\n",
    "    M_model.add(BatchNormalization())\n",
    "\n",
    "  #Hidden layer 3#\n",
    "  num_neurons = int(num_neurons*funnel_prop)\n",
    "  M_model.add(layers.Dense(num_neurons, activation=acti_func, kernel_initializer=initializer))\n",
    "  if (Dropout_prop>0.0000001):\n",
    "    M_model.add(layers.Dropout(Dropout_prop))\n",
    "  if (addBN):\n",
    "    M_model.add(BatchNormalization())\n",
    "\n",
    "  #output layer#\n",
    "  M_model.add(layers.Dense(2, activation='softmax'))\n",
    "\n",
    "  #Configure loss function & target label smoothing (regularization)#\n",
    "  cce_loss = tf.keras.losses.CategoricalCrossentropy(\n",
    "    from_logits=False,\n",
    "    label_smoothing=labelSmoothingStrength,\n",
    "    axis=-1,\n",
    "    reduction=\"auto\",\n",
    "    name=\"categorical_crossentropy\",\n",
    ")\n",
    "  #Float in [0, 1]. When > 0, \n",
    "  #label values are smoothed, \n",
    "  #meaning the confidence on label values are relaxed. \n",
    "   #For example, if 0.1, use 0.1 / num_classes for non-target labels \n",
    "  # and 0.9 + 0.1 / num_classes for target labels.\n",
    "\n",
    "  #Configure optimizer, using SGD only for this project#\n",
    "  opt = tf.keras.optimizers.SGD(learning_rate=0.0001)\n",
    "  \n",
    "  print(M_model.summary())\n",
    "\n",
    "  M_model.compile(optimizer=opt, loss=cce_loss, metrics=['acc', \n",
    "#                                                          f1_m, precision_m, recall_m\n",
    "                                                        ])\n",
    "  \n",
    "  return M_model"
   ]
  },
  {
   "cell_type": "markdown",
   "metadata": {
    "id": "ivE99Bilydxf"
   },
   "source": [
    "# Next we aim to find the best hyper parameters for this dataset. Due to large number of permutations and we limited ourselves to DNNs with 3 hidden layers and vary the following:\n",
    "  ## Regularization-related params:\n",
    "    1. Label Smoothing (has a regularization effect on the loss function as binary classes are now not absolute 1 or 0)\n",
    "    2. Batch Normalization (may improve convergence and generalization of model)\n",
    "    3. Dropout (randomly \"turns off\" proportion of neurons for the hidden layer during training. Has a ensemble learning effect as it trains a slighly different NN in each forward pass.)\n",
    "  ## Architecture params:\n",
    "    1. Funnel \"Width\" of NN (What proportion of dimension is reduced after each hidden layer) \n",
    "    2. Activation function\n",
    "## In total we have trained 486 models for 10 epochs, each cross validated 3 folds over the train dataset. The average test accuracy for a model config was logged and saved into DNN_results.txt "
   ]
  },
  {
   "cell_type": "code",
   "execution_count": 6,
   "metadata": {
    "colab": {
     "base_uri": "https://localhost:8080/"
    },
    "executionInfo": {
     "elapsed": 11,
     "status": "ok",
     "timestamp": 1663751419864,
     "user": {
      "displayName": "Joey Brown",
      "userId": "01530074625336929637"
     },
     "user_tz": -480
    },
    "id": "T-TB3iwVcUFK",
    "outputId": "52ea1245-8263-4120-b3fc-de950236e5a5"
   },
   "outputs": [
    {
     "name": "stdout",
     "output_type": "stream",
     "text": [
      "Number of perms for DNNs: 486\n"
     ]
    },
    {
     "ename": "FileNotFoundError",
     "evalue": "[Errno 2] No such file or directory: './DNN_results.txt'",
     "output_type": "error",
     "traceback": [
      "\u001b[1;31m---------------------------------------------------------------------------\u001b[0m",
      "\u001b[1;31mFileNotFoundError\u001b[0m                         Traceback (most recent call last)",
      "\u001b[1;32m<ipython-input-6-0a74d917baaa>\u001b[0m in \u001b[0;36m<module>\u001b[1;34m\u001b[0m\n\u001b[0;32m     46\u001b[0m \u001b[1;33m\u001b[0m\u001b[0m\n\u001b[0;32m     47\u001b[0m \u001b[1;32melse\u001b[0m\u001b[1;33m:\u001b[0m \u001b[1;31m#Skip search, read from saved results.txt#\u001b[0m\u001b[1;33m\u001b[0m\u001b[1;33m\u001b[0m\u001b[0m\n\u001b[1;32m---> 48\u001b[1;33m   \u001b[1;32mwith\u001b[0m \u001b[0mopen\u001b[0m\u001b[1;33m(\u001b[0m\u001b[1;34m\"./DNN_results.txt\"\u001b[0m\u001b[1;33m)\u001b[0m \u001b[1;32mas\u001b[0m \u001b[0mf\u001b[0m\u001b[1;33m:\u001b[0m\u001b[1;33m\u001b[0m\u001b[1;33m\u001b[0m\u001b[0m\n\u001b[0m\u001b[0;32m     49\u001b[0m       \u001b[1;32mfor\u001b[0m \u001b[0mline\u001b[0m \u001b[1;32min\u001b[0m \u001b[0mf\u001b[0m\u001b[1;33m:\u001b[0m\u001b[1;33m\u001b[0m\u001b[1;33m\u001b[0m\u001b[0m\n\u001b[0;32m     50\u001b[0m         \u001b[1;33m(\u001b[0m\u001b[0mkey\u001b[0m\u001b[1;33m,\u001b[0m \u001b[0mval\u001b[0m\u001b[1;33m)\u001b[0m \u001b[1;33m=\u001b[0m \u001b[0mline\u001b[0m\u001b[1;33m.\u001b[0m\u001b[0msplit\u001b[0m\u001b[1;33m(\u001b[0m\u001b[1;33m)\u001b[0m\u001b[1;33m\u001b[0m\u001b[1;33m\u001b[0m\u001b[0m\n",
      "\u001b[1;31mFileNotFoundError\u001b[0m: [Errno 2] No such file or directory: './DNN_results.txt'"
     ]
    }
   ],
   "source": [
    "#Finding the best hyperparameters for this dataset#\n",
    "#Params to iterate#\n",
    "RUN_HYPARAM_SEARCH = False\n",
    "result_dict = {}\n",
    "\n",
    "labelSmoothingStrength_lst = [0.0, 0.25, 0.5]\n",
    "Dropout_prop_lst = [0.0, 0.25, 0.5]\n",
    "batchSize_lst = [16, 32, 64] #to decide if a small/large batch size is better#\n",
    "funnel_prop_lst = [0.5, 0.75, 1.0]\n",
    "applyBatchNorm = [True, False]\n",
    "acti_func_lst = [ 'sigmoid', 'relu', 'swish']\n",
    "\n",
    "num_perm = len(labelSmoothingStrength_lst)*len(Dropout_prop_lst)*len(batchSize_lst)*len(funnel_prop_lst)*len(applyBatchNorm)*len(acti_func_lst)\n",
    "print(\"Number of perms for DNNs: {}\".format(num_perm))\n",
    "\n",
    "if (RUN_HYPARAM_SEARCH):\n",
    "  perm_count = 0\n",
    "  folds = 3\n",
    "  skf = StratifiedKFold(n_splits=folds) #3 folds cross validation#\n",
    "  skf.get_n_splits(trainX, trainY)\n",
    "  result_dict = {}\n",
    "  epnum = 10\n",
    "  for lss in labelSmoothingStrength_lst:\n",
    "    for fp in funnel_prop_lst:\n",
    "      for bsz in batchSize_lst:\n",
    "        for dp in Dropout_prop_lst:\n",
    "          for bn in applyBatchNorm:\n",
    "            for actif in acti_func_lst:\n",
    "              now = time.time()\n",
    "              perm_count+=1\n",
    "              modelcfg = \"lss:{},fp:{},bsz:{},dp:{},bn:{},acti:{}\".format(lss,fp,bsz,dp,bn,actif)\n",
    "              if modelcfg in result_dict:\n",
    "                print(\"{}/{} ModelCFG:{}, Average Acc over {} folds cross validation: {:.2f}%\".format(perm_count,num_perm, modelcfg,folds,result_dict[modelcfg]*100))\n",
    "                continue\n",
    "              sum_acc = 0.0\n",
    "              model = makeModel(trainX.shape[1], funnel_prop=fp, acti_func=actif, Dropout_prop = dp, addBN=bn, labelSmoothingStrength=lss)\n",
    "              saveinitWeights = model.get_weights() #for resetting later#\n",
    "              for train_index, val_index in skf.split(trainX, trainY.argmax(1)):\n",
    "                model.set_weights(saveinitWeights)\n",
    "                history = model.fit(trainX[train_index], trainY[train_index], epochs=epnum, batch_size=bsz, validation_data=(trainX[val_index],trainY[val_index]), verbose=0, shuffle=True)\n",
    "                sum_acc+= max(history.history['val_accuracy'])\n",
    "              avg_acc = sum_acc / folds\n",
    "              result_dict[modelcfg] = avg_acc\n",
    "              later = time.time()\n",
    "              print(\"{}/{} ModelCFG:{}, Average Acc over {} folds cross validation: {:.2f}%, Time Taken:{}s\".format(perm_count,num_perm, modelcfg,folds,avg_acc*100,later-now))\n",
    "\n",
    "else: #Skip search, read from saved results.txt#\n",
    "  with open(\"./DNN_results.txt\") as f:\n",
    "      for line in f:\n",
    "        (key, val) = line.split()\n",
    "        result_dict[key[1:-2]] = float(val[:-1])\n",
    "  s_result_dict = dict(sorted(result_dict.items(), key=lambda item: item[1],reverse=True))"
   ]
  },
  {
   "cell_type": "markdown",
   "metadata": {
    "id": "R86jzUTE8leD"
   },
   "source": [
    "# Due to imbalanced data (~88.3% of 1 class), that we found out after training 486 models. Most models were not be able to overcome the 88.3% test accuracy mark. (Overfitted on 1 class)\n",
    "\n",
    "# Nevertheless, we foucsed on models that are able to exceed this 88.3% test accuracy, where only ~5% of 486 models met this accuracy mark."
   ]
  },
  {
   "cell_type": "code",
   "execution_count": 6,
   "metadata": {
    "colab": {
     "base_uri": "https://localhost:8080/",
     "height": 265
    },
    "executionInfo": {
     "elapsed": 790,
     "status": "ok",
     "timestamp": 1663751420645,
     "user": {
      "displayName": "Joey Brown",
      "userId": "01530074625336929637"
     },
     "user_tz": -480
    },
    "id": "s4YuZBOWmOUW",
    "outputId": "9106e38b-188f-4044-e409-8a66cc0114c0"
   },
   "outputs": [
    {
     "data": {
      "image/png": "[encoded data removed]",
      "text/plain": [
       "<Figure size 640x480 with 1 Axes>"
      ]
     },
     "metadata": {},
     "output_type": "display_data"
    }
   ],
   "source": [
    "import seaborn as sns\n",
    "import matplotlib.pyplot as plt\n",
    "\n",
    "def show_values(axs, orient=\"v\", space=.01):\n",
    "    def _single(ax):\n",
    "        if orient == \"v\":\n",
    "            for p in ax.patches:\n",
    "                _x = p.get_x() + p.get_width() / 2\n",
    "                _y = p.get_y() + p.get_height() + (p.get_height()*0.01)\n",
    "                value = '{:.1f}'.format(p.get_height())\n",
    "                ax.text(_x, _y, value, ha=\"center\") \n",
    "        elif orient == \"h\":\n",
    "            for p in ax.patches:\n",
    "                _x = p.get_x() + p.get_width() + float(space)\n",
    "                _y = p.get_y() + p.get_height() - (p.get_height()*0.5)\n",
    "                value = '{:.1f}'.format(p.get_width())\n",
    "                ax.text(_x, _y, value, ha=\"left\")\n",
    "\n",
    "    if isinstance(axs, np.ndarray):\n",
    "        for idx, ax in np.ndenumerate(axs):\n",
    "            _single(ax)\n",
    "    else:\n",
    "        _single(axs)\n",
    "\n",
    "result_dict_count = {}\n",
    "for item in s_result_dict.items():\n",
    "  val = item[1]\n",
    "  if (float(val) < 0.883):\n",
    "    label = \"<88.3%\"\n",
    "  elif (float(val) > 0.88302):\n",
    "    label = \">88.3%\"\n",
    "  else:\n",
    "    label = \"capped@88.301%\"\n",
    "  if not label in result_dict_count:\n",
    "    result_dict_count[label]=1\n",
    "  else:\n",
    "    result_dict_count[label]+=1\n",
    "result_dict_count\n",
    "for i in result_dict_count:\n",
    "  result_dict_count[i] = round(result_dict_count[i]/486*100,2)\n",
    "\n",
    "vals =  [float(i) for i in result_dict_count.values()]\n",
    "keys = list(result_dict_count.keys())\n",
    "ax = sns.barplot(x=keys,y=vals)\n",
    "show_values(ax, \"v\", space=0)\n",
    "\n",
    "#roughly 5% reached better results#"
   ]
  },
  {
   "cell_type": "code",
   "execution_count": 7,
   "metadata": {
    "colab": {
     "base_uri": "https://localhost:8080/"
    },
    "executionInfo": {
     "elapsed": 6,
     "status": "ok",
     "timestamp": 1663751420646,
     "user": {
      "displayName": "Joey Brown",
      "userId": "01530074625336929637"
     },
     "user_tz": -480
    },
    "id": "J5aY8JwpmwCb",
    "outputId": "01f6dd34-cadf-4ac0-ab85-65596b0b6b60"
   },
   "outputs": [
    {
     "name": "stdout",
     "output_type": "stream",
     "text": [
      "Label Smoothing: {'0.0': 8, '0.5': 8, '0.25': 7}\n",
      "Funnel proportion: {'0.75': 10, '0.5': 11, '1.0': 2}\n",
      "Batch Size: {'32': 8, '16': 11, '64': 4}\n",
      "Dropout prop: {'0.5': 12, '0.25': 8, '0.0': 3}\n",
      "Batch Norm: {'False': 20, 'True': 3}\n",
      "Activation Function: {'relu': 10, 'swish': 7, 'sigmoid': 6}\n",
      "By voting measure we should use: No label smoothing, Funnel Prop of 0.5, Batch Size of 16, dropout of 0.5, No batch norm & ReLu activation function\n"
     ]
    }
   ],
   "source": [
    "lss = {}\n",
    "fp={}\n",
    "bsz = {}\n",
    "dp = {}\n",
    "bn = {}\n",
    "acti={}\n",
    "\n",
    "def updateDict(dic, val):\n",
    "  if not val[1] in dic:\n",
    "    dic[val[1]] = 1\n",
    "  else:\n",
    "    dic[val[1]] += 1\n",
    "\n",
    "for item in s_result_dict.items():\n",
    "  if item[1]>.88302:\n",
    "    #print(item)\n",
    "    hyperparams = item[0].split(\",\")\n",
    "    for p in hyperparams:\n",
    "      val = p.split(\":\")\n",
    "      if val[0]=='lss':\n",
    "        updateDict(lss,val)\n",
    "      if val[0]=='fp':\n",
    "        updateDict(fp,val)\n",
    "      if val[0]=='bsz':\n",
    "        updateDict(bsz,val)\n",
    "      if val[0]=='dp':\n",
    "        updateDict(dp,val)\n",
    "      if val[0]=='bn':\n",
    "        updateDict(bn,val)\n",
    "      if val[0]=='acti':\n",
    "        updateDict(acti,val)\n",
    "\n",
    "print(\"Label Smoothing:\", lss)\n",
    "print(\"Funnel proportion:\", fp)\n",
    "print(\"Batch Size:\", bsz)\n",
    "print(\"Dropout prop:\", dp)\n",
    "print(\"Batch Norm:\", bn)\n",
    "print(\"Activation Function:\", acti)\n",
    "print(\"By voting measure we should use: No label smoothing, Funnel Prop of 0.5, Batch Size of 16, dropout of 0.5, No batch norm & ReLu activation function\")"
   ]
  },
  {
   "cell_type": "code",
   "execution_count": 7,
   "metadata": {
    "colab": {
     "base_uri": "https://localhost:8080/"
    },
    "executionInfo": {
     "elapsed": 143149,
     "status": "ok",
     "timestamp": 1663757608563,
     "user": {
      "displayName": "Joey Brown",
      "userId": "01530074625336929637"
     },
     "user_tz": -480
    },
    "id": "1bZAQkDksMYB",
    "outputId": "45fda488-db81-4b65-c2c1-c571b51af47e",
    "scrolled": false
   },
   "outputs": [
    {
     "name": "stdout",
     "output_type": "stream",
     "text": [
      "Model: \"sequential\"\n",
      "_________________________________________________________________\n",
      "Layer (type)                 Output Shape              Param #   \n",
      "=================================================================\n",
      "dense (Dense)                (None, 25)                1300      \n",
      "_________________________________________________________________\n",
      "dense_1 (Dense)              (None, 12)                312       \n",
      "_________________________________________________________________\n",
      "dropout (Dropout)            (None, 12)                0         \n",
      "_________________________________________________________________\n",
      "dense_2 (Dense)              (None, 6)                 78        \n",
      "_________________________________________________________________\n",
      "dropout_1 (Dropout)          (None, 6)                 0         \n",
      "_________________________________________________________________\n",
      "dense_3 (Dense)              (None, 3)                 21        \n",
      "_________________________________________________________________\n",
      "dropout_2 (Dropout)          (None, 3)                 0         \n",
      "_________________________________________________________________\n",
      "dense_4 (Dense)              (None, 2)                 8         \n",
      "=================================================================\n",
      "Total params: 1,719\n",
      "Trainable params: 1,719\n",
      "Non-trainable params: 0\n",
      "_________________________________________________________________\n",
      "None\n",
      "Epoch 1/30\n",
      "2261/2261 - 2s - loss: 26.3261 - acc: 0.8806 - val_loss: 0.6330 - val_acc: 0.8830\n",
      "Epoch 2/30\n",
      "2261/2261 - 1s - loss: 0.9137 - acc: 0.8821 - val_loss: 0.5919 - val_acc: 0.8830\n",
      "Epoch 3/30\n",
      "2261/2261 - 1s - loss: 0.5474 - acc: 0.8830 - val_loss: 0.5581 - val_acc: 0.8830\n",
      "Epoch 4/30\n",
      "2261/2261 - 1s - loss: 0.5178 - acc: 0.8830 - val_loss: 0.5309 - val_acc: 0.8830\n",
      "Epoch 5/30\n",
      "2261/2261 - 1s - loss: 0.4994 - acc: 0.8825 - val_loss: 0.5056 - val_acc: 0.8830\n",
      "Epoch 6/30\n",
      "2261/2261 - 1s - loss: 0.4739 - acc: 0.8830 - val_loss: 0.4785 - val_acc: 0.8830\n",
      "Epoch 7/30\n",
      "2261/2261 - 1s - loss: 0.4607 - acc: 0.8830 - val_loss: 0.4645 - val_acc: 0.8830\n",
      "Epoch 8/30\n",
      "2261/2261 - 1s - loss: 0.4472 - acc: 0.8830 - val_loss: 0.4517 - val_acc: 0.8830\n",
      "Epoch 9/30\n",
      "2261/2261 - 1s - loss: 0.4360 - acc: 0.8830 - val_loss: 0.4405 - val_acc: 0.8830\n",
      "Epoch 10/30\n",
      "2261/2261 - 1s - loss: 0.4296 - acc: 0.8830 - val_loss: 0.4313 - val_acc: 0.8830\n",
      "Epoch 11/30\n",
      "2261/2261 - 1s - loss: 0.4227 - acc: 0.8830 - val_loss: 0.4233 - val_acc: 0.8830\n",
      "Epoch 12/30\n",
      "2261/2261 - 1s - loss: 0.4147 - acc: 0.8830 - val_loss: 0.4166 - val_acc: 0.8830\n",
      "Epoch 13/30\n",
      "2261/2261 - 1s - loss: 0.4087 - acc: 0.8830 - val_loss: 0.4122 - val_acc: 0.8830\n",
      "Epoch 14/30\n",
      "2261/2261 - 1s - loss: 0.4045 - acc: 0.8830 - val_loss: 0.4066 - val_acc: 0.8830\n",
      "Epoch 15/30\n",
      "2261/2261 - 1s - loss: 0.4005 - acc: 0.8830 - val_loss: 0.4017 - val_acc: 0.8830\n",
      "Epoch 16/30\n",
      "2261/2261 - 1s - loss: 0.3969 - acc: 0.8830 - val_loss: 0.3974 - val_acc: 0.8830\n",
      "Epoch 17/30\n",
      "2261/2261 - 1s - loss: 0.3927 - acc: 0.8830 - val_loss: 0.3935 - val_acc: 0.8830\n",
      "Epoch 18/30\n",
      "2261/2261 - 1s - loss: 0.3901 - acc: 0.8830 - val_loss: 0.3901 - val_acc: 0.8830\n",
      "Epoch 19/30\n",
      "2261/2261 - 1s - loss: 0.3868 - acc: 0.8830 - val_loss: 0.3872 - val_acc: 0.8830\n",
      "Epoch 20/30\n",
      "2261/2261 - 1s - loss: 0.3847 - acc: 0.8830 - val_loss: 0.3845 - val_acc: 0.8830\n",
      "Epoch 21/30\n",
      "2261/2261 - 1s - loss: 0.3823 - acc: 0.8830 - val_loss: 0.3822 - val_acc: 0.8830\n",
      "Epoch 22/30\n",
      "2261/2261 - 1s - loss: 0.3801 - acc: 0.8830 - val_loss: 0.3801 - val_acc: 0.8830\n",
      "Epoch 23/30\n",
      "2261/2261 - 1s - loss: 0.3785 - acc: 0.8830 - val_loss: 0.3783 - val_acc: 0.8830\n",
      "Epoch 24/30\n",
      "2261/2261 - 1s - loss: 0.3771 - acc: 0.8830 - val_loss: 0.3766 - val_acc: 0.8830\n",
      "Epoch 25/30\n",
      "2261/2261 - 1s - loss: 0.3757 - acc: 0.8830 - val_loss: 0.3751 - val_acc: 0.8830\n",
      "Epoch 26/30\n",
      "2261/2261 - 1s - loss: 0.3740 - acc: 0.8830 - val_loss: 0.3737 - val_acc: 0.8830\n",
      "Epoch 27/30\n",
      "2261/2261 - 1s - loss: 0.3730 - acc: 0.8830 - val_loss: 0.3725 - val_acc: 0.8830\n",
      "Epoch 28/30\n",
      "2261/2261 - 1s - loss: 0.3717 - acc: 0.8830 - val_loss: 0.3714 - val_acc: 0.8830\n",
      "Epoch 29/30\n",
      "2261/2261 - 1s - loss: 0.3708 - acc: 0.8830 - val_loss: 0.3705 - val_acc: 0.8830\n",
      "Epoch 30/30\n",
      "2261/2261 - 1s - loss: 0.3699 - acc: 0.8830 - val_loss: 0.3695 - val_acc: 0.8830\n"
     ]
    }
   ],
   "source": [
    "# Best config = \n",
    "#   lss = 0\n",
    "#   fp = 0.5\n",
    "#   bsz = 16\n",
    "#   dp = 0.5\n",
    "#   bn = False\n",
    "#   acti = relu\n",
    "\n",
    "def scheduler(epoch, lr):\n",
    "  if (epoch+1) % 10 == 0:\n",
    "    return lr\n",
    "  else:\n",
    "    return lr * tf.math.exp(-0.0001)\n",
    "callback = tf.keras.callbacks.LearningRateScheduler(scheduler)\n",
    "modelv1 = makeModel(trainX.shape[1], funnel_prop=0.5, acti_func='relu', Dropout_prop = 0.5, addBN=False, labelSmoothingStrength=0.0)\n",
    "historyv1 = modelv1.fit(trainX, trainY, epochs=30, batch_size=16, validation_data=(testX,testY), verbose=2, callbacks=[callback], shuffle=True)\n",
    "modelv1.save('5a_modelv1.h5')"
   ]
  },
  {
   "cell_type": "code",
   "execution_count": 8,
   "metadata": {
    "colab": {
     "base_uri": "https://localhost:8080/"
    },
    "executionInfo": {
     "elapsed": 199661,
     "status": "ok",
     "timestamp": 1663757808221,
     "user": {
      "displayName": "Joey Brown",
      "userId": "01530074625336929637"
     },
     "user_tz": -480
    },
    "id": "ZzpTtbOywnjZ",
    "outputId": "6ac3304d-a744-46fb-b970-46248451e49a",
    "scrolled": false
   },
   "outputs": [
    {
     "name": "stdout",
     "output_type": "stream",
     "text": [
      "{0: 0.5662397845758838, 1: 4.27416686362562}\n",
      "Model: \"sequential_1\"\n",
      "_________________________________________________________________\n",
      "Layer (type)                 Output Shape              Param #   \n",
      "=================================================================\n",
      "dense_5 (Dense)              (None, 25)                1300      \n",
      "_________________________________________________________________\n",
      "dense_6 (Dense)              (None, 12)                312       \n",
      "_________________________________________________________________\n",
      "dropout_3 (Dropout)          (None, 12)                0         \n",
      "_________________________________________________________________\n",
      "dense_7 (Dense)              (None, 6)                 78        \n",
      "_________________________________________________________________\n",
      "dropout_4 (Dropout)          (None, 6)                 0         \n",
      "_________________________________________________________________\n",
      "dense_8 (Dense)              (None, 3)                 21        \n",
      "_________________________________________________________________\n",
      "dropout_5 (Dropout)          (None, 3)                 0         \n",
      "_________________________________________________________________\n",
      "dense_9 (Dense)              (None, 2)                 8         \n",
      "=================================================================\n",
      "Total params: 1,719\n",
      "Trainable params: 1,719\n",
      "Non-trainable params: 0\n",
      "_________________________________________________________________\n",
      "None\n",
      "Epoch 1/30\n",
      "2261/2261 - 2s - loss: 424.1029 - acc: 0.8176 - val_loss: 0.6931 - val_acc: 0.8830\n",
      "Epoch 2/30\n",
      "2261/2261 - 1s - loss: 0.7319 - acc: 0.1387 - val_loss: 0.6931 - val_acc: 0.8830\n",
      "Epoch 3/30\n",
      "2261/2261 - 1s - loss: 0.7814 - acc: 0.3250 - val_loss: 0.6931 - val_acc: 0.8830\n",
      "Epoch 4/30\n",
      "2261/2261 - 1s - loss: 0.7335 - acc: 0.6624 - val_loss: 0.6931 - val_acc: 0.8830\n",
      "Epoch 5/30\n",
      "2261/2261 - 1s - loss: 0.6931 - acc: 0.7729 - val_loss: 0.6931 - val_acc: 0.8830\n",
      "Epoch 6/30\n",
      "2261/2261 - 1s - loss: 0.7037 - acc: 0.4732 - val_loss: 0.6930 - val_acc: 0.8830\n",
      "Epoch 7/30\n",
      "2261/2261 - 1s - loss: 0.7013 - acc: 0.7438 - val_loss: 0.6930 - val_acc: 0.8830\n",
      "Epoch 8/30\n",
      "2261/2261 - 1s - loss: 0.7054 - acc: 0.7078 - val_loss: 0.6931 - val_acc: 0.8830\n",
      "Epoch 9/30\n",
      "2261/2261 - 1s - loss: 0.6931 - acc: 0.8185 - val_loss: 0.6931 - val_acc: 0.8830\n",
      "Epoch 10/30\n",
      "2261/2261 - 1s - loss: 0.7228 - acc: 0.6572 - val_loss: 0.6931 - val_acc: 0.8830\n",
      "Epoch 11/30\n",
      "2261/2261 - 1s - loss: 0.7007 - acc: 0.4859 - val_loss: 0.6931 - val_acc: 0.8830\n",
      "Epoch 12/30\n",
      "2261/2261 - 1s - loss: 0.7138 - acc: 0.7065 - val_loss: 0.6931 - val_acc: 0.8830\n",
      "Epoch 13/30\n",
      "2261/2261 - 1s - loss: 0.6974 - acc: 0.6618 - val_loss: 0.6931 - val_acc: 0.8830\n",
      "Epoch 14/30\n",
      "2261/2261 - 1s - loss: 0.6932 - acc: 0.5048 - val_loss: 0.6931 - val_acc: 0.8830\n",
      "Epoch 15/30\n",
      "2261/2261 - 1s - loss: 0.6972 - acc: 0.7115 - val_loss: 0.6931 - val_acc: 0.8830\n",
      "Epoch 16/30\n",
      "2261/2261 - 1s - loss: 0.6971 - acc: 0.6239 - val_loss: 0.6932 - val_acc: 0.1170\n",
      "Epoch 17/30\n",
      "2261/2261 - 1s - loss: 0.6932 - acc: 0.2245 - val_loss: 0.6931 - val_acc: 0.8830\n",
      "Epoch 18/30\n",
      "2261/2261 - 1s - loss: 0.6932 - acc: 0.4292 - val_loss: 0.6931 - val_acc: 0.8830\n",
      "Epoch 19/30\n",
      "2261/2261 - 1s - loss: 0.6931 - acc: 0.6608 - val_loss: 0.6931 - val_acc: 0.8830\n",
      "Epoch 20/30\n",
      "2261/2261 - 1s - loss: 0.6931 - acc: 0.8197 - val_loss: 0.6931 - val_acc: 0.8830\n",
      "Epoch 21/30\n",
      "2261/2261 - 1s - loss: 0.6931 - acc: 0.4996 - val_loss: 0.6932 - val_acc: 0.1170\n",
      "Epoch 22/30\n",
      "2261/2261 - 1s - loss: 0.6933 - acc: 0.5059 - val_loss: 0.6932 - val_acc: 0.1170\n",
      "Epoch 23/30\n",
      "2261/2261 - 1s - loss: 0.6932 - acc: 0.1476 - val_loss: 0.6931 - val_acc: 0.8830\n",
      "Epoch 24/30\n",
      "2261/2261 - 1s - loss: 0.6931 - acc: 0.3789 - val_loss: 0.6931 - val_acc: 0.8830\n",
      "Epoch 25/30\n",
      "2261/2261 - 1s - loss: 0.6931 - acc: 0.3632 - val_loss: 0.6931 - val_acc: 0.8830\n",
      "Epoch 26/30\n",
      "2261/2261 - 1s - loss: 0.6932 - acc: 0.3841 - val_loss: 0.6931 - val_acc: 0.8830\n",
      "Epoch 27/30\n",
      "2261/2261 - 1s - loss: 0.6932 - acc: 0.3499 - val_loss: 0.6931 - val_acc: 0.8830\n",
      "Epoch 28/30\n",
      "2261/2261 - 1s - loss: 0.6948 - acc: 0.8097 - val_loss: 0.6931 - val_acc: 0.8830\n",
      "Epoch 29/30\n",
      "2261/2261 - 1s - loss: 0.6931 - acc: 0.3091 - val_loss: 0.6931 - val_acc: 0.8830\n",
      "Epoch 30/30\n",
      "2261/2261 - 1s - loss: 0.6982 - acc: 0.1637 - val_loss: 0.6931 - val_acc: 0.8830\n"
     ]
    }
   ],
   "source": [
    "#Added imbalanced class weights onto the loss function (see model.fit)#\n",
    "from sklearn.utils import class_weight\n",
    "yints = list(trainY.argmax(1))\n",
    "class_weights = class_weight.compute_class_weight(class_weight = \"balanced\", classes= np.unique(yints), y= yints)\n",
    "class_weights = dict(zip(np.unique(yints), class_weights))\n",
    "print(class_weights)\n",
    "modelv2 = makeModel(trainX.shape[1], funnel_prop=0.5, acti_func='relu', Dropout_prop = 0.5, addBN=False, labelSmoothingStrength=0.0)\n",
    "historyv2 = modelv2.fit(trainX, trainY, epochs=30, batch_size=16, validation_data=(testX,testY), verbose=2, callbacks=[callback], shuffle=True, class_weight=class_weights)\n",
    "modelv2.save('5b_modelv2.h5')"
   ]
  },
  {
   "cell_type": "markdown",
   "metadata": {
    "id": "bHsLiID8g7OO"
   },
   "source": [
    "# training is unstable, I suspect is due to low number of trainable parameters"
   ]
  },
  {
   "cell_type": "code",
   "execution_count": 9,
   "metadata": {
    "colab": {
     "base_uri": "https://localhost:8080/"
    },
    "executionInfo": {
     "elapsed": 1584445,
     "status": "ok",
     "timestamp": 1663756918043,
     "user": {
      "displayName": "Joey Brown",
      "userId": "01530074625336929637"
     },
     "user_tz": -480
    },
    "id": "qaUPOoBZz5Be",
    "outputId": "8239d4f7-4211-49c4-dacd-41858f2b6316",
    "scrolled": false
   },
   "outputs": [
    {
     "name": "stdout",
     "output_type": "stream",
     "text": [
      "Model: \"sequential_2\"\n",
      "_________________________________________________________________\n",
      "Layer (type)                 Output Shape              Param #   \n",
      "=================================================================\n",
      "dense_10 (Dense)             (None, 51)                2652      \n",
      "_________________________________________________________________\n",
      "batch_normalization (BatchNo (None, 51)                204       \n",
      "_________________________________________________________________\n",
      "dense_11 (Dense)             (None, 51)                2652      \n",
      "_________________________________________________________________\n",
      "batch_normalization_1 (Batch (None, 51)                204       \n",
      "_________________________________________________________________\n",
      "dense_12 (Dense)             (None, 51)                2652      \n",
      "_________________________________________________________________\n",
      "batch_normalization_2 (Batch (None, 51)                204       \n",
      "_________________________________________________________________\n",
      "dense_13 (Dense)             (None, 51)                2652      \n",
      "_________________________________________________________________\n",
      "batch_normalization_3 (Batch (None, 51)                204       \n",
      "_________________________________________________________________\n",
      "dense_14 (Dense)             (None, 2)                 104       \n",
      "=================================================================\n",
      "Total params: 11,528\n",
      "Trainable params: 11,120\n",
      "Non-trainable params: 408\n",
      "_________________________________________________________________\n",
      "None\n",
      "Epoch 1/100\n",
      "2261/2261 - 3s - loss: 0.9082 - acc: 0.4773 - val_loss: 0.9868 - val_acc: 0.2713\n",
      "Epoch 2/100\n",
      "2261/2261 - 2s - loss: 0.7335 - acc: 0.5343 - val_loss: 0.8887 - val_acc: 0.4101\n",
      "Epoch 3/100\n",
      "2261/2261 - 2s - loss: 0.6809 - acc: 0.5750 - val_loss: 0.7822 - val_acc: 0.5376\n",
      "Epoch 4/100\n",
      "2261/2261 - 2s - loss: 0.6602 - acc: 0.6038 - val_loss: 0.7823 - val_acc: 0.5926\n",
      "Epoch 5/100\n",
      "2261/2261 - 2s - loss: 0.6480 - acc: 0.6235 - val_loss: 0.7449 - val_acc: 0.6324\n",
      "Epoch 6/100\n",
      "2261/2261 - 2s - loss: 0.6323 - acc: 0.6385 - val_loss: 0.6955 - val_acc: 0.6702\n",
      "Epoch 7/100\n",
      "2261/2261 - 2s - loss: 0.6274 - acc: 0.6481 - val_loss: 0.6697 - val_acc: 0.7108\n",
      "Epoch 8/100\n",
      "2261/2261 - 2s - loss: 0.6221 - acc: 0.6588 - val_loss: 0.6820 - val_acc: 0.6720\n",
      "Epoch 9/100\n",
      "2261/2261 - 2s - loss: 0.6121 - acc: 0.6686 - val_loss: 0.6285 - val_acc: 0.7154\n",
      "Epoch 10/100\n",
      "2261/2261 - 2s - loss: 0.6155 - acc: 0.6698 - val_loss: 0.6406 - val_acc: 0.7048\n",
      "Epoch 11/100\n",
      "2261/2261 - 2s - loss: 0.6001 - acc: 0.6765 - val_loss: 0.6307 - val_acc: 0.7087\n",
      "Epoch 12/100\n",
      "2261/2261 - 2s - loss: 0.5947 - acc: 0.6839 - val_loss: 0.6061 - val_acc: 0.7325\n",
      "Epoch 13/100\n",
      "2261/2261 - 2s - loss: 0.5937 - acc: 0.6836 - val_loss: 0.6248 - val_acc: 0.7047\n",
      "Epoch 14/100\n",
      "2261/2261 - 2s - loss: 0.5943 - acc: 0.6872 - val_loss: 0.6136 - val_acc: 0.7280\n",
      "Epoch 15/100\n",
      "2261/2261 - 2s - loss: 0.5848 - acc: 0.6901 - val_loss: 0.6453 - val_acc: 0.6965\n",
      "Epoch 16/100\n",
      "2261/2261 - 2s - loss: 0.5813 - acc: 0.6924 - val_loss: 0.6217 - val_acc: 0.7200\n",
      "Epoch 17/100\n",
      "2261/2261 - 2s - loss: 0.5818 - acc: 0.6944 - val_loss: 0.6019 - val_acc: 0.7278\n",
      "Epoch 18/100\n",
      "2261/2261 - 2s - loss: 0.5798 - acc: 0.6942 - val_loss: 0.5927 - val_acc: 0.7324\n",
      "Epoch 19/100\n",
      "2261/2261 - 2s - loss: 0.5748 - acc: 0.6984 - val_loss: 0.5843 - val_acc: 0.7366\n",
      "Epoch 20/100\n",
      "2261/2261 - 2s - loss: 0.5778 - acc: 0.6982 - val_loss: 0.6010 - val_acc: 0.7222\n",
      "Epoch 21/100\n",
      "2261/2261 - 2s - loss: 0.5766 - acc: 0.6971 - val_loss: 0.5908 - val_acc: 0.7284\n",
      "Epoch 22/100\n",
      "2261/2261 - 2s - loss: 0.5717 - acc: 0.6966 - val_loss: 0.5671 - val_acc: 0.7494\n",
      "Epoch 23/100\n",
      "2261/2261 - 2s - loss: 0.5757 - acc: 0.6966 - val_loss: 0.5534 - val_acc: 0.7648\n",
      "Epoch 24/100\n",
      "2261/2261 - 2s - loss: 0.5749 - acc: 0.6985 - val_loss: 0.5498 - val_acc: 0.7681\n",
      "Epoch 25/100\n",
      "2261/2261 - 2s - loss: 0.5696 - acc: 0.7003 - val_loss: 0.5598 - val_acc: 0.7501\n",
      "Epoch 26/100\n",
      "2261/2261 - 2s - loss: 0.5714 - acc: 0.6986 - val_loss: 0.5651 - val_acc: 0.7389\n",
      "Epoch 27/100\n",
      "2261/2261 - 2s - loss: 0.5621 - acc: 0.7022 - val_loss: 0.5302 - val_acc: 0.7727\n",
      "Epoch 28/100\n",
      "2261/2261 - 2s - loss: 0.5678 - acc: 0.7024 - val_loss: 0.5455 - val_acc: 0.7597\n",
      "Epoch 29/100\n",
      "2261/2261 - 2s - loss: 0.5655 - acc: 0.7029 - val_loss: 0.5627 - val_acc: 0.7470\n",
      "Epoch 30/100\n",
      "2261/2261 - 2s - loss: 0.5666 - acc: 0.7005 - val_loss: 0.5314 - val_acc: 0.7728\n",
      "Epoch 31/100\n",
      "2261/2261 - 2s - loss: 0.5640 - acc: 0.7023 - val_loss: 0.5240 - val_acc: 0.7800\n",
      "Epoch 32/100\n",
      "2261/2261 - 2s - loss: 0.5607 - acc: 0.7013 - val_loss: 0.5262 - val_acc: 0.7759\n",
      "Epoch 33/100\n",
      "2261/2261 - 2s - loss: 0.5577 - acc: 0.7000 - val_loss: 0.5176 - val_acc: 0.7763\n",
      "Epoch 34/100\n",
      "2261/2261 - 2s - loss: 0.5605 - acc: 0.7024 - val_loss: 0.5282 - val_acc: 0.7665\n",
      "Epoch 35/100\n",
      "2261/2261 - 2s - loss: 0.5629 - acc: 0.7039 - val_loss: 0.5122 - val_acc: 0.7755\n",
      "Epoch 36/100\n",
      "2261/2261 - 2s - loss: 0.5584 - acc: 0.6990 - val_loss: 0.5309 - val_acc: 0.7593\n",
      "Epoch 37/100\n",
      "2261/2261 - 2s - loss: 0.5532 - acc: 0.7064 - val_loss: 0.5401 - val_acc: 0.7537\n",
      "Epoch 38/100\n",
      "2261/2261 - 2s - loss: 0.5548 - acc: 0.6989 - val_loss: 0.5057 - val_acc: 0.7953\n",
      "Epoch 39/100\n",
      "2261/2261 - 2s - loss: 0.5630 - acc: 0.7000 - val_loss: 0.5032 - val_acc: 0.7941\n",
      "Epoch 40/100\n",
      "2261/2261 - 2s - loss: 0.5549 - acc: 0.7036 - val_loss: 0.5134 - val_acc: 0.7801\n",
      "Epoch 41/100\n",
      "2261/2261 - 2s - loss: 0.5574 - acc: 0.7039 - val_loss: 0.5187 - val_acc: 0.7715\n",
      "Epoch 42/100\n",
      "2261/2261 - 2s - loss: 0.5529 - acc: 0.7027 - val_loss: 0.5396 - val_acc: 0.7503\n",
      "Epoch 43/100\n",
      "2261/2261 - 2s - loss: 0.5515 - acc: 0.7032 - val_loss: 0.5177 - val_acc: 0.7793\n",
      "Epoch 44/100\n",
      "2261/2261 - 2s - loss: 0.5530 - acc: 0.7043 - val_loss: 0.5243 - val_acc: 0.7769\n",
      "Epoch 45/100\n",
      "2261/2261 - 2s - loss: 0.5511 - acc: 0.7048 - val_loss: 0.5098 - val_acc: 0.7878\n",
      "Epoch 46/100\n",
      "2261/2261 - 2s - loss: 0.5503 - acc: 0.7060 - val_loss: 0.5208 - val_acc: 0.7772\n",
      "Epoch 47/100\n",
      "2261/2261 - 2s - loss: 0.5517 - acc: 0.7063 - val_loss: 0.5165 - val_acc: 0.7791\n",
      "Epoch 48/100\n",
      "2261/2261 - 2s - loss: 0.5460 - acc: 0.7085 - val_loss: 0.5065 - val_acc: 0.7878\n",
      "Epoch 49/100\n",
      "2261/2261 - 2s - loss: 0.5507 - acc: 0.7087 - val_loss: 0.4977 - val_acc: 0.8019\n",
      "Epoch 50/100\n",
      "2261/2261 - 2s - loss: 0.5514 - acc: 0.7091 - val_loss: 0.4975 - val_acc: 0.7913\n",
      "Epoch 51/100\n",
      "2261/2261 - 2s - loss: 0.5482 - acc: 0.7079 - val_loss: 0.5009 - val_acc: 0.7920\n",
      "Epoch 52/100\n",
      "2261/2261 - 2s - loss: 0.5467 - acc: 0.7109 - val_loss: 0.5132 - val_acc: 0.7838\n",
      "Epoch 53/100\n",
      "2261/2261 - 2s - loss: 0.5479 - acc: 0.7098 - val_loss: 0.4892 - val_acc: 0.8047\n",
      "Epoch 54/100\n",
      "2261/2261 - 2s - loss: 0.5449 - acc: 0.7113 - val_loss: 0.5001 - val_acc: 0.7906\n",
      "Epoch 55/100\n",
      "2261/2261 - 2s - loss: 0.5457 - acc: 0.7134 - val_loss: 0.5074 - val_acc: 0.7948\n",
      "Epoch 56/100\n",
      "2261/2261 - 2s - loss: 0.5407 - acc: 0.7135 - val_loss: 0.5110 - val_acc: 0.7766\n",
      "Epoch 57/100\n",
      "2261/2261 - 2s - loss: 0.5456 - acc: 0.7145 - val_loss: 0.5033 - val_acc: 0.7932\n",
      "Epoch 58/100\n",
      "2261/2261 - 2s - loss: 0.5433 - acc: 0.7127 - val_loss: 0.5067 - val_acc: 0.7926\n",
      "Epoch 59/100\n",
      "2261/2261 - 2s - loss: 0.5433 - acc: 0.7117 - val_loss: 0.4950 - val_acc: 0.7960\n",
      "Epoch 60/100\n",
      "2261/2261 - 2s - loss: 0.5426 - acc: 0.7159 - val_loss: 0.4826 - val_acc: 0.8123\n",
      "Epoch 61/100\n",
      "2261/2261 - 2s - loss: 0.5456 - acc: 0.7132 - val_loss: 0.4925 - val_acc: 0.8070\n",
      "Epoch 62/100\n",
      "2261/2261 - 2s - loss: 0.5394 - acc: 0.7147 - val_loss: 0.4782 - val_acc: 0.8163\n",
      "Epoch 63/100\n",
      "2261/2261 - 2s - loss: 0.5387 - acc: 0.7178 - val_loss: 0.4998 - val_acc: 0.7945\n",
      "Epoch 64/100\n",
      "2261/2261 - 2s - loss: 0.5358 - acc: 0.7183 - val_loss: 0.4966 - val_acc: 0.7936\n",
      "Epoch 65/100\n",
      "2261/2261 - 2s - loss: 0.5390 - acc: 0.7173 - val_loss: 0.4788 - val_acc: 0.8058\n",
      "Epoch 66/100\n",
      "2261/2261 - 2s - loss: 0.5385 - acc: 0.7184 - val_loss: 0.4787 - val_acc: 0.8019\n",
      "Epoch 67/100\n",
      "2261/2261 - 2s - loss: 0.5409 - acc: 0.7171 - val_loss: 0.4957 - val_acc: 0.8097\n",
      "Epoch 68/100\n",
      "2261/2261 - 2s - loss: 0.5347 - acc: 0.7193 - val_loss: 0.4818 - val_acc: 0.8024\n",
      "Epoch 69/100\n",
      "2261/2261 - 2s - loss: 0.5346 - acc: 0.7198 - val_loss: 0.4928 - val_acc: 0.7978\n",
      "Epoch 70/100\n",
      "2261/2261 - 2s - loss: 0.5378 - acc: 0.7178 - val_loss: 0.4880 - val_acc: 0.7917\n",
      "Epoch 71/100\n",
      "2261/2261 - 2s - loss: 0.5369 - acc: 0.7171 - val_loss: 0.4934 - val_acc: 0.7926\n",
      "Epoch 72/100\n",
      "2261/2261 - 2s - loss: 0.5402 - acc: 0.7197 - val_loss: 0.4981 - val_acc: 0.8174\n",
      "Epoch 73/100\n",
      "2261/2261 - 2s - loss: 0.5402 - acc: 0.7212 - val_loss: 0.4893 - val_acc: 0.8040\n",
      "Epoch 74/100\n",
      "2261/2261 - 2s - loss: 0.5350 - acc: 0.7225 - val_loss: 0.4772 - val_acc: 0.8121\n",
      "Epoch 75/100\n",
      "2261/2261 - 2s - loss: 0.5365 - acc: 0.7237 - val_loss: 0.4865 - val_acc: 0.7987\n",
      "Epoch 76/100\n",
      "2261/2261 - 2s - loss: 0.5388 - acc: 0.7225 - val_loss: 0.4660 - val_acc: 0.8265\n",
      "Epoch 77/100\n",
      "2261/2261 - 2s - loss: 0.5337 - acc: 0.7238 - val_loss: 0.4834 - val_acc: 0.8121\n",
      "Epoch 78/100\n",
      "2261/2261 - 2s - loss: 0.5327 - acc: 0.7246 - val_loss: 0.4870 - val_acc: 0.8000\n",
      "Epoch 79/100\n",
      "2261/2261 - 2s - loss: 0.5306 - acc: 0.7258 - val_loss: 0.5022 - val_acc: 0.7858\n",
      "Epoch 80/100\n",
      "2261/2261 - 2s - loss: 0.5374 - acc: 0.7243 - val_loss: 0.4776 - val_acc: 0.8221\n",
      "Epoch 81/100\n",
      "2261/2261 - 2s - loss: 0.5336 - acc: 0.7249 - val_loss: 0.4998 - val_acc: 0.7867\n",
      "Epoch 82/100\n",
      "2261/2261 - 2s - loss: 0.5334 - acc: 0.7247 - val_loss: 0.4685 - val_acc: 0.8157\n",
      "Epoch 83/100\n",
      "2261/2261 - 2s - loss: 0.5345 - acc: 0.7224 - val_loss: 0.4886 - val_acc: 0.7955\n",
      "Epoch 84/100\n",
      "2261/2261 - 2s - loss: 0.5333 - acc: 0.7254 - val_loss: 0.4796 - val_acc: 0.8071\n",
      "Epoch 85/100\n",
      "2261/2261 - 2s - loss: 0.5308 - acc: 0.7253 - val_loss: 0.4901 - val_acc: 0.8052\n",
      "Epoch 86/100\n",
      "2261/2261 - 2s - loss: 0.5341 - acc: 0.7255 - val_loss: 0.4735 - val_acc: 0.8285\n",
      "Epoch 87/100\n",
      "2261/2261 - 2s - loss: 0.5319 - acc: 0.7268 - val_loss: 0.4727 - val_acc: 0.8086\n",
      "Epoch 88/100\n",
      "2261/2261 - 2s - loss: 0.5346 - acc: 0.7229 - val_loss: 0.4716 - val_acc: 0.8172\n",
      "Epoch 89/100\n",
      "2261/2261 - 2s - loss: 0.5321 - acc: 0.7261 - val_loss: 0.4865 - val_acc: 0.8100\n",
      "Epoch 90/100\n",
      "2261/2261 - 2s - loss: 0.5327 - acc: 0.7233 - val_loss: 0.4770 - val_acc: 0.8133\n",
      "Epoch 91/100\n",
      "2261/2261 - 2s - loss: 0.5349 - acc: 0.7261 - val_loss: 0.4681 - val_acc: 0.8216\n",
      "Epoch 92/100\n",
      "2261/2261 - 2s - loss: 0.5354 - acc: 0.7258 - val_loss: 0.4874 - val_acc: 0.7927\n",
      "Epoch 93/100\n",
      "2261/2261 - 2s - loss: 0.5303 - acc: 0.7265 - val_loss: 0.4873 - val_acc: 0.8120\n",
      "Epoch 94/100\n",
      "2261/2261 - 2s - loss: 0.5347 - acc: 0.7241 - val_loss: 0.4785 - val_acc: 0.8020\n",
      "Epoch 95/100\n",
      "2261/2261 - 2s - loss: 0.5325 - acc: 0.7273 - val_loss: 0.4800 - val_acc: 0.8058\n",
      "Epoch 96/100\n",
      "2261/2261 - 2s - loss: 0.5312 - acc: 0.7245 - val_loss: 0.4623 - val_acc: 0.8212\n",
      "Epoch 97/100\n",
      "2261/2261 - 2s - loss: 0.5298 - acc: 0.7269 - val_loss: 0.4645 - val_acc: 0.8332\n",
      "Epoch 98/100\n",
      "2261/2261 - 2s - loss: 0.5291 - acc: 0.7280 - val_loss: 0.4634 - val_acc: 0.8144\n",
      "Epoch 99/100\n",
      "2261/2261 - 2s - loss: 0.5336 - acc: 0.7244 - val_loss: 0.4671 - val_acc: 0.8223\n",
      "Epoch 100/100\n",
      "2261/2261 - 2s - loss: 0.5311 - acc: 0.7278 - val_loss: 0.4807 - val_acc: 0.8146\n"
     ]
    }
   ],
   "source": [
    "#Increased # of neurons, removed dropout & added batch norm to get a stable training going#\n",
    "modelv3 = makeModel(trainX.shape[1], funnel_prop=1.0, acti_func='relu', Dropout_prop = 0.0, addBN=True, labelSmoothingStrength=0.0)\n",
    "historyv3 = modelv3.fit(trainX, trainY, epochs=100, batch_size=16, validation_data=(testX,testY), verbose=2, shuffle=True, class_weight=class_weights)\n",
    "modelv3.save('5c_modelv3.h5')"
   ]
  },
  {
   "cell_type": "code",
   "execution_count": 12,
   "metadata": {
    "colab": {
     "base_uri": "https://localhost:8080/",
     "height": 297
    },
    "executionInfo": {
     "elapsed": 636,
     "status": "ok",
     "timestamp": 1663758471298,
     "user": {
      "displayName": "Joey Brown",
      "userId": "01530074625336929637"
     },
     "user_tz": -480
    },
    "id": "H7kQP707d7W6",
    "outputId": "8b92ff69-6173-4f49-fa7a-088f5886d632"
   },
   "outputs": [
    {
     "data": {
      "image/png": "[encoded data removed]",
      "text/plain": [
       "<Figure size 432x288 with 2 Axes>"
      ]
     },
     "metadata": {
      "needs_background": "light"
     },
     "output_type": "display_data"
    }
   ],
   "source": [
    "#Plot test results over epochs#\n",
    "hist_results = [historyv1,historyv2,historyv3]\n",
    "hist_names = [\"No class weights\", \"With class weights\", \"With class weights-Stable\"]\n",
    "hist_colors = [\"b\", \"r\", \"g\"]\n",
    "test_metric = [\"val_acc\"]\n",
    "test_metric_title = [\"Test Accuracy\"]\n",
    "fig2, axes = plt.subplots(2)\n",
    "for idx, h in enumerate(hist_results):\n",
    "  for idx2, metric in enumerate(test_metric):\n",
    "    k = h.history[metric]\n",
    "    axes[idx2].scatter(range(len(k)),k, c=hist_colors[idx], marker='.', label=hist_names[idx])\n",
    "    axes[idx2].set_title(test_metric_title[idx2])\n",
    "fig2.tight_layout()\n",
    "plt.show()"
   ]
  },
  {
   "cell_type": "markdown",
   "metadata": {
    "id": "yd3QuaffvFFD"
   },
   "source": [
    "# Blue: No class weighing. Using hyperparam searched DNN, 88.3% accuracy, overfitted wrongly --> to plot confusion matrix\n",
    "# Red: Unstable DNN training with class weighing for imbalanced class\n",
    "# Green: Stabalized DNN training with class weighing for imbalanced class\n",
    "# Best acc with DNN ~83.32%"
   ]
  },
  {
   "cell_type": "code",
   "execution_count": 13,
   "metadata": {
    "colab": {
     "base_uri": "https://localhost:8080/"
    },
    "executionInfo": {
     "elapsed": 2,
     "status": "ok",
     "timestamp": 1663758696155,
     "user": {
      "displayName": "Joey Brown",
      "userId": "01530074625336929637"
     },
     "user_tz": -480
    },
    "id": "dcdPWEGoqOY9",
    "outputId": "8115c37c-45ae-4123-ef04-7aabf7d356a1"
   },
   "outputs": [
    {
     "data": {
      "text/plain": [
       "0.8332227468490601"
      ]
     },
     "execution_count": 13,
     "metadata": {},
     "output_type": "execute_result"
    }
   ],
   "source": [
    "max(historyv3.history['val_acc'])"
   ]
  },
  {
   "cell_type": "code",
   "execution_count": 14,
   "metadata": {
    "colab": {
     "base_uri": "https://localhost:8080/",
     "height": 298
    },
    "executionInfo": {
     "elapsed": 904,
     "status": "ok",
     "timestamp": 1663760990886,
     "user": {
      "displayName": "Joey Brown",
      "userId": "01530074625336929637"
     },
     "user_tz": -480
    },
    "id": "ILsmpe3BwGTn",
    "outputId": "300e0dea-0368-4eb8-b764-2df5105a250d",
    "scrolled": true
   },
   "outputs": [
    {
     "data": {
      "text/plain": [
       "Text(0.5, 1.0, 'Test Accuracy')"
      ]
     },
     "execution_count": 14,
     "metadata": {},
     "output_type": "execute_result"
    },
    {
     "data": {
      "image/png": "[encoded data removed]",
      "text/plain": [
       "<Figure size 432x288 with 1 Axes>"
      ]
     },
     "metadata": {
      "needs_background": "light"
     },
     "output_type": "display_data"
    }
   ],
   "source": [
    "data = historyv3.history['val_acc']\n",
    "plt.scatter(range(len(data)),data, c=hist_colors[idx], marker='.', label=hist_names[idx])\n",
    "plt.title(test_metric_title[idx2])\n"
   ]
  },
  {
   "cell_type": "markdown",
   "metadata": {},
   "source": [
    "#### to compute f1 and display confusion matrix"
   ]
  },
  {
   "cell_type": "code",
   "execution_count": 15,
   "metadata": {},
   "outputs": [
    {
     "name": "stdout",
     "output_type": "stream",
     "text": [
      "              precision    recall  f1-score   support\n",
      "\n",
      "           n       0.99      0.80      0.88      7984\n",
      "           y       0.38      0.96      0.55      1058\n",
      "\n",
      "    accuracy                           0.81      9042\n",
      "   macro avg       0.69      0.88      0.72      9042\n",
      "weighted avg       0.92      0.81      0.84      9042\n",
      "\n"
     ]
    },
    {
     "data": {
      "image/png": "[encoded data removed]",
      "text/plain": [
       "<Figure size 432x288 with 2 Axes>"
      ]
     },
     "metadata": {
      "needs_background": "light"
     },
     "output_type": "display_data"
    }
   ],
   "source": [
    "from sklearn.metrics._plot.confusion_matrix import confusion_matrix\n",
    "from sklearn.metrics import classification_report, ConfusionMatrixDisplay, f1_score\n",
    "\n",
    "def genCMfromDNN(evalY,y_prediction):\n",
    "  #y_predictions are post-softmax form, i.e. [0.7,0.3]#\n",
    "  arr = []\n",
    "  for i in y_prediction:\n",
    "    binary_pred = np.argmax(i)\n",
    "    if binary_pred:\n",
    "      lst = [0,1]\n",
    "    else:\n",
    "      lst = [1,0]\n",
    "    arr.append(lst)\n",
    "  y_pred = np.array(arr)\n",
    "\n",
    "  #reverse to_categorical#\n",
    "  testY_class = list(evalY.argmax(1))\n",
    "  y_pred_class = list(y_pred.argmax(1))\n",
    "\n",
    "  #generate CM#\n",
    "  cm = confusion_matrix(testY_class,y_pred_class)\n",
    "  disp = ConfusionMatrixDisplay(confusion_matrix=cm)\n",
    "  disp.plot()\n",
    "  print(classification_report(testY_class,y_pred_class,target_names=['n','y']))\n",
    "\n",
    "\n",
    "modelvTEST = tf.keras.models.load_model(\"5c_modelv3.h5\")\n",
    "# y_hat_train = modelvTEST.predict(trainX)\n",
    "y_hat_test = modelvTEST.predict(testX)\n",
    "\n",
    "# genCMfromDNN(trainY,y_hat_train)\n",
    "genCMfromDNN(testY,y_hat_test)"
   ]
  }
 ],
 "metadata": {
  "colab": {
   "collapsed_sections": [],
   "provenance": []
  },
  "kernelspec": {
   "display_name": "Python 3.9 (tensorflow)",
   "language": "python",
   "name": "tensorflow"
  },
  "language_info": {
   "codemirror_mode": {
    "name": "ipython",
    "version": 3
   },
   "file_extension": ".py",
   "mimetype": "text/x-python",
   "name": "python",
   "nbconvert_exporter": "python",
   "pygments_lexer": "ipython3",
   "version": "3.9.13"
  },
  "vscode": {
   "interpreter": {
    "hash": "67a3503afb1d50656426eb653d1c15728ce23daf36c2793da80362f72c29183b"
   }
  }
 },
 "nbformat": 4,
 "nbformat_minor": 1
}
